{
  "nbformat": 4,
  "nbformat_minor": 0,
  "metadata": {
    "accelerator": "GPU",
    "colab": {
      "name": "song_generation_model.ipynb",
      "provenance": [],
      "collapsed_sections": []
    },
    "kernelspec": {
      "display_name": "Python 3",
      "name": "python3"
    }
  },
  "cells": [
    {
      "cell_type": "markdown",
      "metadata": {
        "colab_type": "text",
        "id": "4aHK2CYygXom"
      },
      "source": [
        "## Import TensorFlow and related functions"
      ]
    },
    {
      "cell_type": "code",
      "metadata": {
        "colab_type": "code",
        "id": "2LmLTREBf5ng",
        "colab": {}
      },
      "source": [
        "import tensorflow as tf\n",
        "\n",
        "from tensorflow.keras.preprocessing.text import Tokenizer\n",
        "from tensorflow.keras.preprocessing.sequence import pad_sequences\n",
        "\n",
        "# Other imports for processing data\n",
        "import string\n",
        "import numpy as np\n",
        "import pandas as pd"
      ],
      "execution_count": 1,
      "outputs": []
    },
    {
      "cell_type": "code",
      "metadata": {
        "colab_type": "code",
        "id": "4Bf5FVHfganK",
        "colab": {
          "base_uri": "https://localhost:8080/",
          "height": 332
        },
        "outputId": "1c1e2516-521c-4a25-e374-97b9bb64ec94"
      },
      "source": [
        "!wget --no-check-certificate \\\n",
        "    https://drive.google.com/uc?id=1LiJFZd41ofrWoBtW-pMYsfz1w8Ny0Bj8 \\\n",
        "    -O /tmp/songdata.csv"
      ],
      "execution_count": 2,
      "outputs": [
        {
          "output_type": "stream",
          "text": [
            "--2020-06-27 16:55:46--  https://drive.google.com/uc?id=1LiJFZd41ofrWoBtW-pMYsfz1w8Ny0Bj8\n",
            "Resolving drive.google.com (drive.google.com)... 173.194.76.101, 173.194.76.139, 173.194.76.138, ...\n",
            "Connecting to drive.google.com (drive.google.com)|173.194.76.101|:443... connected.\n",
            "HTTP request sent, awaiting response... 302 Moved Temporarily\n",
            "Location: https://doc-04-ak-docs.googleusercontent.com/docs/securesc/ha0ro937gcuc7l7deffksulhg5h7mbp1/pb8dmrm2utecqfjror2r0q7qpvqtkn3h/1593276900000/11118900490791463723/*/1LiJFZd41ofrWoBtW-pMYsfz1w8Ny0Bj8 [following]\n",
            "Warning: wildcards not supported in HTTP.\n",
            "--2020-06-27 16:55:49--  https://doc-04-ak-docs.googleusercontent.com/docs/securesc/ha0ro937gcuc7l7deffksulhg5h7mbp1/pb8dmrm2utecqfjror2r0q7qpvqtkn3h/1593276900000/11118900490791463723/*/1LiJFZd41ofrWoBtW-pMYsfz1w8Ny0Bj8\n",
            "Resolving doc-04-ak-docs.googleusercontent.com (doc-04-ak-docs.googleusercontent.com)... 173.194.76.132, 2a00:1450:400c:c00::84\n",
            "Connecting to doc-04-ak-docs.googleusercontent.com (doc-04-ak-docs.googleusercontent.com)|173.194.76.132|:443... connected.\n",
            "HTTP request sent, awaiting response... 200 OK\n",
            "Length: unspecified [text/csv]\n",
            "Saving to: ‘/tmp/songdata.csv’\n",
            "\n",
            "/tmp/songdata.csv       [    <=>             ]  69.08M  89.0MB/s    in 0.8s    \n",
            "\n",
            "2020-06-27 16:55:50 (89.0 MB/s) - ‘/tmp/songdata.csv’ saved [72436445]\n",
            "\n"
          ],
          "name": "stdout"
        }
      ]
    },
    {
      "cell_type": "markdown",
      "metadata": {
        "colab_type": "text",
        "id": "nWbMN_19jfRT"
      },
      "source": [
        "### Preprocessing"
      ]
    },
    {
      "cell_type": "code",
      "metadata": {
        "colab_type": "code",
        "id": "LRmPPJegovBe",
        "colab": {}
      },
      "source": [
        "def tokenize_corpus(corpus, num_words=-1):\n",
        "  # Fit a Tokenizer on the corpus\n",
        "  if num_words > -1:\n",
        "    tokenizer = Tokenizer(num_words=num_words)\n",
        "  else:\n",
        "    tokenizer = Tokenizer()\n",
        "  tokenizer.fit_on_texts(corpus)\n",
        "  return tokenizer\n",
        "\n",
        "def create_lyrics_corpus(dataset, field):\n",
        "  # Remove all other punctuation\n",
        "  dataset[field] = dataset[field].str.replace('[{}]'.format(string.punctuation), '')\n",
        "  # Make it lowercase\n",
        "  dataset[field] = dataset[field].str.lower()\n",
        "  # Make it one long string to split by line\n",
        "  lyrics = dataset[field].str.cat()\n",
        "  corpus = lyrics.split('\\n')\n",
        "  # Remove any trailing whitespace\n",
        "  for l in range(len(corpus)):\n",
        "    corpus[l] = corpus[l].rstrip()\n",
        "  # Remove any empty lines\n",
        "  corpus = [l for l in corpus if l != '']\n",
        "\n",
        "  return corpus"
      ],
      "execution_count": 3,
      "outputs": []
    },
    {
      "cell_type": "code",
      "metadata": {
        "colab_type": "code",
        "id": "kIGedF3XjHj4",
        "colab": {
          "base_uri": "https://localhost:8080/",
          "height": 35
        },
        "outputId": "4d760e66-7cad-4785-a609-4f7f99c00b0b"
      },
      "source": [
        "def tokenize_corpus(corpus, num_words=-1):\n",
        "  # Fit a Tokenizer on the corpus\n",
        "  if num_words > -1:\n",
        "    tokenizer = Tokenizer(num_words=num_words)\n",
        "  else:\n",
        "    tokenizer = Tokenizer()\n",
        "  tokenizer.fit_on_texts(corpus)\n",
        "  return tokenizer\n",
        "\n",
        "# Read the dataset from csv - this time with 250 songs\n",
        "dataset = pd.read_csv('/tmp/songdata.csv', dtype=str)[:250]\n",
        "# Create the corpus using the 'text' column containing lyrics\n",
        "corpus = create_lyrics_corpus(dataset, 'text')\n",
        "# Tokenize the corpus\n",
        "tokenizer = tokenize_corpus(corpus, num_words=2000)\n",
        "total_words = tokenizer.num_words\n",
        "\n",
        "# There should be a lot more words now\n",
        "print(total_words)"
      ],
      "execution_count": 4,
      "outputs": [
        {
          "output_type": "stream",
          "text": [
            "2000\n"
          ],
          "name": "stdout"
        }
      ]
    },
    {
      "cell_type": "markdown",
      "metadata": {
        "colab_type": "text",
        "id": "quoDmw_FkNBA"
      },
      "source": [
        "### Create Sequences and Labels"
      ]
    },
    {
      "cell_type": "code",
      "metadata": {
        "colab_type": "code",
        "id": "kkLAf3HmkPSo",
        "colab": {}
      },
      "source": [
        "sequences = []\n",
        "for line in corpus:\n",
        "\ttoken_list = tokenizer.texts_to_sequences([line])[0]\n",
        "\tfor i in range(1, len(token_list)):\n",
        "\t\tn_gram_sequence = token_list[:i+1]\n",
        "\t\tsequences.append(n_gram_sequence)\n",
        "\n",
        "# Pad sequences for equal input length \n",
        "max_sequence_len = max([len(seq) for seq in sequences])\n",
        "sequences = np.array(pad_sequences(sequences, maxlen=max_sequence_len, padding='pre'))\n",
        "\n",
        "# Split sequences between the \"input\" sequence and \"output\" predicted word\n",
        "input_sequences, labels = sequences[:,:-1], sequences[:,-1]\n",
        "# One-hot encode the labels\n",
        "one_hot_labels = tf.keras.utils.to_categorical(labels, num_classes=total_words)"
      ],
      "execution_count": 5,
      "outputs": []
    },
    {
      "cell_type": "markdown",
      "metadata": {
        "colab_type": "text",
        "id": "cECbqT-blMk-"
      },
      "source": [
        "### Train a Text Generation Model\n"
      ]
    },
    {
      "cell_type": "code",
      "metadata": {
        "colab_type": "code",
        "id": "7nHOp6uWlP_P",
        "colab": {
          "base_uri": "https://localhost:8080/",
          "height": 1000
        },
        "outputId": "9c2e5e18-e6d9-449b-f4af-4f314b32edbe"
      },
      "source": [
        "from tensorflow.keras.models import Sequential\n",
        "from tensorflow.keras.layers import Embedding, LSTM, Dense, Bidirectional\n",
        "\n",
        "model = Sequential()\n",
        "model.add(Embedding(total_words, 64, input_length=max_sequence_len-1))\n",
        "model.add(Bidirectional(LSTM(20)))\n",
        "model.add(Dense(total_words, activation='softmax'))\n",
        "model.compile(loss='categorical_crossentropy', optimizer='adam', metrics=['accuracy'])\n",
        "history = model.fit(input_sequences, one_hot_labels, epochs=100, verbose=1)"
      ],
      "execution_count": 6,
      "outputs": [
        {
          "output_type": "stream",
          "text": [
            "Epoch 1/100\n",
            "1480/1480 [==============================] - 21s 14ms/step - loss: 5.9772 - accuracy: 0.0470\n",
            "Epoch 2/100\n",
            "1480/1480 [==============================] - 21s 14ms/step - loss: 5.6377 - accuracy: 0.0559\n",
            "Epoch 3/100\n",
            "1480/1480 [==============================] - 21s 14ms/step - loss: 5.4097 - accuracy: 0.0841\n",
            "Epoch 4/100\n",
            "1480/1480 [==============================] - 21s 14ms/step - loss: 5.2443 - accuracy: 0.1005\n",
            "Epoch 5/100\n",
            "1480/1480 [==============================] - 21s 14ms/step - loss: 5.1076 - accuracy: 0.1164\n",
            "Epoch 6/100\n",
            "1480/1480 [==============================] - 21s 14ms/step - loss: 4.9486 - accuracy: 0.1329\n",
            "Epoch 7/100\n",
            "1480/1480 [==============================] - 21s 14ms/step - loss: 4.7809 - accuracy: 0.1493\n",
            "Epoch 8/100\n",
            "1480/1480 [==============================] - 21s 14ms/step - loss: 4.6322 - accuracy: 0.1640\n",
            "Epoch 9/100\n",
            "1480/1480 [==============================] - 21s 14ms/step - loss: 4.5070 - accuracy: 0.1768\n",
            "Epoch 10/100\n",
            "1480/1480 [==============================] - 21s 14ms/step - loss: 4.3898 - accuracy: 0.1886\n",
            "Epoch 11/100\n",
            "1480/1480 [==============================] - 21s 14ms/step - loss: 4.2837 - accuracy: 0.2014\n",
            "Epoch 12/100\n",
            "1480/1480 [==============================] - 21s 14ms/step - loss: 4.1874 - accuracy: 0.2122\n",
            "Epoch 13/100\n",
            "1480/1480 [==============================] - 21s 14ms/step - loss: 4.0998 - accuracy: 0.2226\n",
            "Epoch 14/100\n",
            "1480/1480 [==============================] - 21s 14ms/step - loss: 4.0212 - accuracy: 0.2324\n",
            "Epoch 15/100\n",
            "1480/1480 [==============================] - 21s 14ms/step - loss: 3.9472 - accuracy: 0.2426\n",
            "Epoch 16/100\n",
            "1480/1480 [==============================] - 21s 14ms/step - loss: 3.8791 - accuracy: 0.2518\n",
            "Epoch 17/100\n",
            "1480/1480 [==============================] - 21s 14ms/step - loss: 3.8125 - accuracy: 0.2598\n",
            "Epoch 18/100\n",
            "1480/1480 [==============================] - 21s 14ms/step - loss: 3.7520 - accuracy: 0.2686\n",
            "Epoch 19/100\n",
            "1480/1480 [==============================] - 21s 14ms/step - loss: 3.6967 - accuracy: 0.2767\n",
            "Epoch 20/100\n",
            "1480/1480 [==============================] - 21s 14ms/step - loss: 3.6469 - accuracy: 0.2839\n",
            "Epoch 21/100\n",
            "1480/1480 [==============================] - 21s 15ms/step - loss: 3.5932 - accuracy: 0.2926\n",
            "Epoch 22/100\n",
            "1480/1480 [==============================] - 21s 14ms/step - loss: 3.5489 - accuracy: 0.2980\n",
            "Epoch 23/100\n",
            "1480/1480 [==============================] - 21s 14ms/step - loss: 3.5103 - accuracy: 0.3046\n",
            "Epoch 24/100\n",
            "1480/1480 [==============================] - 21s 14ms/step - loss: 3.4689 - accuracy: 0.3095\n",
            "Epoch 25/100\n",
            "1480/1480 [==============================] - 21s 14ms/step - loss: 3.4299 - accuracy: 0.3164\n",
            "Epoch 26/100\n",
            "1480/1480 [==============================] - 21s 14ms/step - loss: 3.3900 - accuracy: 0.3218\n",
            "Epoch 27/100\n",
            "1480/1480 [==============================] - 21s 14ms/step - loss: 3.3591 - accuracy: 0.3255\n",
            "Epoch 28/100\n",
            "1480/1480 [==============================] - 21s 14ms/step - loss: 3.3258 - accuracy: 0.3323\n",
            "Epoch 29/100\n",
            "1480/1480 [==============================] - 21s 14ms/step - loss: 3.2956 - accuracy: 0.3349\n",
            "Epoch 30/100\n",
            "1480/1480 [==============================] - 21s 14ms/step - loss: 3.2594 - accuracy: 0.3419\n",
            "Epoch 31/100\n",
            "1480/1480 [==============================] - 21s 14ms/step - loss: 3.2342 - accuracy: 0.3456\n",
            "Epoch 32/100\n",
            "1480/1480 [==============================] - 21s 14ms/step - loss: 3.2045 - accuracy: 0.3506\n",
            "Epoch 33/100\n",
            "1480/1480 [==============================] - 21s 14ms/step - loss: 3.1718 - accuracy: 0.3559\n",
            "Epoch 34/100\n",
            "1480/1480 [==============================] - 21s 14ms/step - loss: 3.1455 - accuracy: 0.3602\n",
            "Epoch 35/100\n",
            "1480/1480 [==============================] - 21s 14ms/step - loss: 3.1194 - accuracy: 0.3643\n",
            "Epoch 36/100\n",
            "1480/1480 [==============================] - 21s 14ms/step - loss: 3.1003 - accuracy: 0.3668\n",
            "Epoch 37/100\n",
            "1480/1480 [==============================] - 21s 14ms/step - loss: 3.0677 - accuracy: 0.3725\n",
            "Epoch 38/100\n",
            "1480/1480 [==============================] - 21s 14ms/step - loss: 3.0436 - accuracy: 0.3750\n",
            "Epoch 39/100\n",
            "1480/1480 [==============================] - 21s 14ms/step - loss: 3.0215 - accuracy: 0.3820\n",
            "Epoch 40/100\n",
            "1480/1480 [==============================] - 21s 14ms/step - loss: 3.0007 - accuracy: 0.3836\n",
            "Epoch 41/100\n",
            "1480/1480 [==============================] - 21s 14ms/step - loss: 2.9782 - accuracy: 0.3865\n",
            "Epoch 42/100\n",
            "1480/1480 [==============================] - 21s 14ms/step - loss: 2.9586 - accuracy: 0.3936\n",
            "Epoch 43/100\n",
            "1480/1480 [==============================] - 21s 14ms/step - loss: 2.9381 - accuracy: 0.3975\n",
            "Epoch 44/100\n",
            "1480/1480 [==============================] - 21s 14ms/step - loss: 2.9169 - accuracy: 0.4009\n",
            "Epoch 45/100\n",
            "1480/1480 [==============================] - 21s 14ms/step - loss: 2.8983 - accuracy: 0.4039\n",
            "Epoch 46/100\n",
            "1480/1480 [==============================] - 21s 14ms/step - loss: 2.8831 - accuracy: 0.4053\n",
            "Epoch 47/100\n",
            "1480/1480 [==============================] - 21s 14ms/step - loss: 2.8666 - accuracy: 0.4097\n",
            "Epoch 48/100\n",
            "1480/1480 [==============================] - 21s 14ms/step - loss: 2.8572 - accuracy: 0.4085\n",
            "Epoch 49/100\n",
            "1480/1480 [==============================] - 21s 14ms/step - loss: 2.8486 - accuracy: 0.4110\n",
            "Epoch 50/100\n",
            "1480/1480 [==============================] - 21s 14ms/step - loss: 2.8101 - accuracy: 0.4182\n",
            "Epoch 51/100\n",
            "1480/1480 [==============================] - 21s 14ms/step - loss: 2.7930 - accuracy: 0.4206\n",
            "Epoch 52/100\n",
            "1480/1480 [==============================] - 21s 14ms/step - loss: 2.7834 - accuracy: 0.4224\n",
            "Epoch 53/100\n",
            "1480/1480 [==============================] - 21s 14ms/step - loss: 2.7700 - accuracy: 0.4244\n",
            "Epoch 54/100\n",
            "1480/1480 [==============================] - 21s 14ms/step - loss: 2.7472 - accuracy: 0.4262\n",
            "Epoch 55/100\n",
            "1480/1480 [==============================] - 21s 14ms/step - loss: 2.7404 - accuracy: 0.4286\n",
            "Epoch 56/100\n",
            "1480/1480 [==============================] - 21s 14ms/step - loss: 2.7172 - accuracy: 0.4331\n",
            "Epoch 57/100\n",
            "1480/1480 [==============================] - 21s 14ms/step - loss: 2.7070 - accuracy: 0.4337\n",
            "Epoch 58/100\n",
            "1480/1480 [==============================] - 20s 14ms/step - loss: 2.6902 - accuracy: 0.4370\n",
            "Epoch 59/100\n",
            "1480/1480 [==============================] - 21s 14ms/step - loss: 2.6819 - accuracy: 0.4382\n",
            "Epoch 60/100\n",
            "1480/1480 [==============================] - 20s 14ms/step - loss: 2.6776 - accuracy: 0.4392\n",
            "Epoch 61/100\n",
            "1480/1480 [==============================] - 20s 14ms/step - loss: 2.6559 - accuracy: 0.4433\n",
            "Epoch 62/100\n",
            "1480/1480 [==============================] - 21s 14ms/step - loss: 2.6652 - accuracy: 0.4408\n",
            "Epoch 63/100\n",
            "1480/1480 [==============================] - 21s 14ms/step - loss: 2.6285 - accuracy: 0.4485\n",
            "Epoch 64/100\n",
            "1480/1480 [==============================] - 21s 14ms/step - loss: 2.6140 - accuracy: 0.4507\n",
            "Epoch 65/100\n",
            "1480/1480 [==============================] - 21s 14ms/step - loss: 2.6017 - accuracy: 0.4530\n",
            "Epoch 66/100\n",
            "1480/1480 [==============================] - 21s 14ms/step - loss: 2.5931 - accuracy: 0.4540\n",
            "Epoch 67/100\n",
            "1480/1480 [==============================] - 21s 14ms/step - loss: 2.5847 - accuracy: 0.4543\n",
            "Epoch 68/100\n",
            "1480/1480 [==============================] - 21s 14ms/step - loss: 2.5718 - accuracy: 0.4561\n",
            "Epoch 69/100\n",
            "1480/1480 [==============================] - 21s 14ms/step - loss: 2.5675 - accuracy: 0.4581\n",
            "Epoch 70/100\n",
            "1480/1480 [==============================] - 21s 14ms/step - loss: 2.5456 - accuracy: 0.4619\n",
            "Epoch 71/100\n",
            "1480/1480 [==============================] - 21s 14ms/step - loss: 2.5482 - accuracy: 0.4608\n",
            "Epoch 72/100\n",
            "1480/1480 [==============================] - 21s 14ms/step - loss: 2.5324 - accuracy: 0.4649\n",
            "Epoch 73/100\n",
            "1480/1480 [==============================] - 21s 14ms/step - loss: 2.5267 - accuracy: 0.4648\n",
            "Epoch 74/100\n",
            "1480/1480 [==============================] - 21s 14ms/step - loss: 2.5105 - accuracy: 0.4663\n",
            "Epoch 75/100\n",
            "1480/1480 [==============================] - 21s 14ms/step - loss: 2.5204 - accuracy: 0.4655\n",
            "Epoch 76/100\n",
            "1480/1480 [==============================] - 21s 14ms/step - loss: 2.4912 - accuracy: 0.4703\n",
            "Epoch 77/100\n",
            "1480/1480 [==============================] - 21s 14ms/step - loss: 2.4773 - accuracy: 0.4729\n",
            "Epoch 78/100\n",
            "1480/1480 [==============================] - 20s 14ms/step - loss: 2.4733 - accuracy: 0.4733\n",
            "Epoch 79/100\n",
            "1480/1480 [==============================] - 21s 14ms/step - loss: 2.4653 - accuracy: 0.4757\n",
            "Epoch 80/100\n",
            "1480/1480 [==============================] - 21s 14ms/step - loss: 2.4550 - accuracy: 0.4780\n",
            "Epoch 81/100\n",
            "1480/1480 [==============================] - 22s 15ms/step - loss: 2.4564 - accuracy: 0.4779\n",
            "Epoch 82/100\n",
            "1480/1480 [==============================] - 21s 14ms/step - loss: 2.4521 - accuracy: 0.4793\n",
            "Epoch 83/100\n",
            "1480/1480 [==============================] - 21s 14ms/step - loss: 2.4282 - accuracy: 0.4828\n",
            "Epoch 84/100\n",
            "1480/1480 [==============================] - 21s 14ms/step - loss: 2.4190 - accuracy: 0.4839\n",
            "Epoch 85/100\n",
            "1480/1480 [==============================] - 21s 14ms/step - loss: 2.4198 - accuracy: 0.4826\n",
            "Epoch 86/100\n",
            "1480/1480 [==============================] - 21s 14ms/step - loss: 2.4052 - accuracy: 0.4846\n",
            "Epoch 87/100\n",
            "1480/1480 [==============================] - 21s 14ms/step - loss: 2.4011 - accuracy: 0.4864\n",
            "Epoch 88/100\n",
            "1480/1480 [==============================] - 21s 14ms/step - loss: 2.3836 - accuracy: 0.4913\n",
            "Epoch 89/100\n",
            "1480/1480 [==============================] - 21s 14ms/step - loss: 2.3826 - accuracy: 0.4916\n",
            "Epoch 90/100\n",
            "1480/1480 [==============================] - 21s 14ms/step - loss: 2.3716 - accuracy: 0.4941\n",
            "Epoch 91/100\n",
            "1480/1480 [==============================] - 21s 14ms/step - loss: 2.3671 - accuracy: 0.4939\n",
            "Epoch 92/100\n",
            "1480/1480 [==============================] - 21s 14ms/step - loss: 2.3485 - accuracy: 0.4973\n",
            "Epoch 93/100\n",
            "1480/1480 [==============================] - 21s 14ms/step - loss: 2.3498 - accuracy: 0.4962\n",
            "Epoch 94/100\n",
            "1480/1480 [==============================] - 21s 14ms/step - loss: 2.3465 - accuracy: 0.4976\n",
            "Epoch 95/100\n",
            "1480/1480 [==============================] - 21s 14ms/step - loss: 2.3392 - accuracy: 0.4974\n",
            "Epoch 96/100\n",
            "1480/1480 [==============================] - 22s 15ms/step - loss: 2.3223 - accuracy: 0.5013\n",
            "Epoch 97/100\n",
            "1480/1480 [==============================] - 21s 14ms/step - loss: 2.3412 - accuracy: 0.4975\n",
            "Epoch 98/100\n",
            "1480/1480 [==============================] - 21s 14ms/step - loss: 2.3185 - accuracy: 0.5018\n",
            "Epoch 99/100\n",
            "1480/1480 [==============================] - 21s 14ms/step - loss: 2.3029 - accuracy: 0.5061\n",
            "Epoch 100/100\n",
            "1480/1480 [==============================] - 21s 14ms/step - loss: 2.3008 - accuracy: 0.5057\n"
          ],
          "name": "stdout"
        }
      ]
    },
    {
      "cell_type": "markdown",
      "metadata": {
        "colab_type": "text",
        "id": "MgvIz20nlQcq"
      },
      "source": [
        "### View the Training Graph"
      ]
    },
    {
      "cell_type": "code",
      "metadata": {
        "colab_type": "code",
        "id": "rOqmmarvlSLh",
        "colab": {
          "base_uri": "https://localhost:8080/",
          "height": 279
        },
        "outputId": "470bb4df-34ef-4bbf-fedf-4706da1fdd38"
      },
      "source": [
        "import matplotlib.pyplot as plt\n",
        "\n",
        "def plot_graphs(history, string):\n",
        "  plt.plot(history.history[string])\n",
        "  plt.xlabel(\"Epochs\")\n",
        "  plt.ylabel(string)\n",
        "  plt.show()\n",
        "\n",
        "plot_graphs(history, 'accuracy')"
      ],
      "execution_count": 7,
      "outputs": [
        {
          "output_type": "display_data",
          "data": {
            "image/png": "[encoded data removed]",
            "text/plain": [
              "<Figure size 432x288 with 1 Axes>"
            ]
          },
          "metadata": {
            "tags": [],
            "needs_background": "light"
          }
        }
      ]
    },
    {
      "cell_type": "markdown",
      "metadata": {
        "colab_type": "text",
        "id": "ISLZZGlQlSxh"
      },
      "source": [
        "### Generate lyrics!"
      ]
    },
    {
      "cell_type": "code",
      "metadata": {
        "colab_type": "code",
        "id": "P96oVMk3lU7y",
        "colab": {
          "base_uri": "https://localhost:8080/",
          "height": 55
        },
        "outputId": "5ebc0a20-2922-479c-81b9-f55d62677cf1"
      },
      "source": [
        "seed_text = \"i love chocolates\"\n",
        "next_words = 100\n",
        "  \n",
        "for _ in range(next_words):\n",
        "\ttoken_list = tokenizer.texts_to_sequences([seed_text])[0]\n",
        "\ttoken_list = pad_sequences([token_list], maxlen=max_sequence_len-1, padding='pre')\n",
        "\tpredicted = np.argmax(model.predict(token_list), axis=-1)\n",
        "\toutput_word = \"\"\n",
        "\tfor word, index in tokenizer.word_index.items():\n",
        "\t\tif index == predicted:\n",
        "\t\t\toutput_word = word\n",
        "\t\t\tbreak\n",
        "\tseed_text += \" \" + output_word\n",
        "print(seed_text)"
      ],
      "execution_count": 11,
      "outputs": [
        {
          "output_type": "stream",
          "text": [
            "i love chocolates it all have a few things can go old story time can do is right my love on her way down down out the hole in guys happiest side mans bill sea silly remind excite spread twist spread spread spread spread spread twist spread spread spread spread spread twist borrow spread excite fans deny twist deny refuse dig refuse tip deny deny kill dig resist resist happiest defenses dig happiest wall beating folks catch me for evergrowing singing rockin singing returning the bars pandora hour fellow were shining know what she could be sailing for returning whatever well then suddenly\n"
          ],
          "name": "stdout"
        }
      ]
    },
    {
      "cell_type": "markdown",
      "metadata": {
        "colab_type": "text",
        "id": "upgJKV8_oRU9"
      },
      "source": [
        "### Varying the Possible Outputs\n",
        "\n",
        "In running the above, you may notice that the same seed text will generate similar outputs. This is because the code is currently always choosing the top predicted class as the next word. What if you wanted more variance in the output? \n",
        "\n",
        "Switching from `model.predict_classes` to `model.predict_proba` will get us all of the class probabilities. We can combine this with `np.random.choice` to select a given predicted output based on a probability, thereby giving a bit more randomness to our outputs."
      ]
    },
    {
      "cell_type": "code",
      "metadata": {
        "colab_type": "code",
        "id": "lZe9gaJeoGVP",
        "colab": {
          "base_uri": "https://localhost:8080/",
          "height": 35
        },
        "outputId": "3c3735af-f9f0-40e6-fe69-60d1136cd000"
      },
      "source": [
        "# Test the method with just the first word after the seed text\n",
        "seed_text = \"i love chocolates\"\n",
        "next_words = 100\n",
        "  \n",
        "token_list = tokenizer.texts_to_sequences([seed_text])[0]\n",
        "token_list = pad_sequences([token_list], maxlen=max_sequence_len-1, padding='pre')\n",
        "predicted_probs = model.predict(token_list)[0]\n",
        "predicted = np.random.choice([x for x in range(len(predicted_probs))], \n",
        "                             p=predicted_probs)\n",
        "# Running this cell multiple times should get you some variance in output\n",
        "print(predicted)"
      ],
      "execution_count": 12,
      "outputs": [
        {
          "output_type": "stream",
          "text": [
            "27\n"
          ],
          "name": "stdout"
        }
      ]
    },
    {
      "cell_type": "code",
      "metadata": {
        "colab_type": "code",
        "id": "ee7WKgRGrJy1",
        "colab": {
          "base_uri": "https://localhost:8080/",
          "height": 55
        },
        "outputId": "9562e248-8b78-4440-afe9-f638acbf62ec"
      },
      "source": [
        "# Use this process for the full output generation\n",
        "seed_text = \"i love chocolates\"\n",
        "next_words = 100\n",
        "  \n",
        "for _ in range(next_words):\n",
        "  token_list = tokenizer.texts_to_sequences([seed_text])[0]\n",
        "  token_list = pad_sequences([token_list], maxlen=max_sequence_len-1, padding='pre')\n",
        "  predicted_probs = model.predict(token_list)[0]\n",
        "  predicted = np.random.choice([x for x in range(len(predicted_probs))],\n",
        "                               p=predicted_probs)\n",
        "  output_word = \"\"\n",
        "  for word, index in tokenizer.word_index.items():\n",
        "    if index == predicted:\n",
        "      output_word = word\n",
        "      break\n",
        "  seed_text += \" \" + output_word\n",
        "print(seed_text)"
      ],
      "execution_count": 13,
      "outputs": [
        {
          "output_type": "stream",
          "text": [
            "i love chocolates for my face about a maybe on give your choice but it heard me i would have a past then you promise that rides gets me rides on the sun that wed want to see em unreal at the time that you would sees you heaven can go forever praised women last from there twist with times then he praised hoping sun done cause shed make plans i could be well cause god heads and tails you everything everywhere we so hard ya through loud for noone thats never done that let you wasnt check kids kin walk my intention\n"
          ],
          "name": "stdout"
        }
      ]
    }
  ]
}